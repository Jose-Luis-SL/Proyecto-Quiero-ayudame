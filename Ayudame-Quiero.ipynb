{
  "metadata": {
    "language_info": {
      "name": ""
    },
    "kernelspec": {
      "name": "python",
      "display_name": "Python (Pyodide)",
      "language": "python"
    }
  },
  "nbformat_minor": 4,
  "nbformat": 4,
  "cells": [
    {
      "cell_type": "markdown",
      "source": "# Aplicación Ayudame, quiero ...\n# José Luis Sánchez López",
      "metadata": {}
    },
    {
      "cell_type": "markdown",
      "source": "# Importación de los módulos req0ueridos por la aplicación",
      "metadata": {}
    },
    {
      "cell_type": "code",
      "source": "import pygame\nimport sys\nimport math",
      "metadata": {
        "trusted": true
      },
      "execution_count": null,
      "outputs": []
    },
    {
      "cell_type": "markdown",
      "source": "# Iniciación de las funciones de Pygame para usar la tipografía y el sonido",
      "metadata": {}
    },
    {
      "cell_type": "code",
      "source": "pygame.init()\npygame.font.init()\npygame.mixer.init()",
      "metadata": {
        "trusted": true
      },
      "execution_count": null,
      "outputs": []
    },
    {
      "cell_type": "markdown",
      "source": "# Definición del tamaño del dibujo y del botón de inicio",
      "metadata": {}
    },
    {
      "cell_type": "code",
      "source": "medida_dibujo = 200  # tamaño de las imagenes en pixeles\nalto_boton = 30  # El botón inferior, para iniciar la aplicación",
      "metadata": {
        "trusted": true
      },
      "execution_count": null,
      "outputs": []
    },
    {
      "cell_type": "markdown",
      "source": "# Definición de colores RGB",
      "metadata": {}
    },
    {
      "cell_type": "code",
      "source": "azul = (30, 136, 229)\ngris = (206, 206, 206)\nblanco = (255, 255, 255)\nnegro = (0, 0, 0)",
      "metadata": {},
      "execution_count": null,
      "outputs": []
    },
    {
      "cell_type": "markdown",
      "source": "# Creación de la clase que presentara la tabla con las imágenes.",
      "metadata": {}
    },
    {
      "cell_type": "code",
      "source": "class Tabla:\n    def __init__(self, fuente_imagen):\n        self.mostrar = True\n        self.descubierto = False\n        self.fuente_imagen = fuente_imagen\n        self.imagen_real = pygame.image.load(fuente_imagen)",
      "metadata": {},
      "execution_count": null,
      "outputs": []
    },
    {
      "cell_type": "markdown",
      "source": "# Creación de la tabla de acciones (3 renglones por 5 columnas)",
      "metadata": {}
    },
    {
      "cell_type": "code",
      "source": "acciones = [\n    [Tabla(\"recursos/Baniar.png \"), Tabla(\"recursos/Caer.png\"),\n     Tabla(\"recursos/Caminar.jpg\"), Tabla(\"recursos/Cenar.png\"), Tabla(\"recursos/Comer.jpg\")],\n    [Tabla(\"recursos/Desayunar.png\"), Tabla(\"recursos/Dormir.jpg\"), \n     Tabla(\"recursos/Ejercicio.png\"),Tabla(\"recursos/Frio.png\"), Tabla(\"recursos/lavar_dientes.png\")],\n    [Tabla(\"recursos/lavar_manos.png\"), Tabla(\"recursos/Leer.png\"), \n    Tabla(\"recursos/Pintar.png\"), Tabla(\"recursos/Pipipopo.png\"), Tabla(\"recursos/Ver_TV.jpg\")],\n]",
      "metadata": {},
      "execution_count": null,
      "outputs": []
    },
    {
      "cell_type": "markdown",
      "source": "# Declaración del audio de cada acción",
      "metadata": {}
    },
    {
      "cell_type": "code",
      "source": "sonido_clic = pygame.mixer.Sound(\"recursos/clic.wav\")\nsonido_baniar = pygame.mixer.Sound(\"recursos/baniar.mp3\")\nsonido_caer = pygame.mixer.Sound(\"recursos/caer.mp3\")\nsonido_caminar = pygame.mixer.Sound(\"recursos/caminar.mp3\")\nsonido_cenar = pygame.mixer.Sound(\"recursos/cenar.mp3\")\nsonido_comer = pygame.mixer.Sound(\"recursos/comer.mp3\")\nsonido_desayunar = pygame.mixer.Sound(\"recursos/desayunar.mp3\")\nsonido_dormir = pygame.mixer.Sound(\"recursos/dormir.mp3\")\nsonido_ejercicio = pygame.mixer.Sound(\"recursos/ejercicio.mp3\")\nsonido_frio = pygame.mixer.Sound(\"recursos/frio.mp3\")\nsonido_lavar_dientes = pygame.mixer.Sound(\"recursos/lavar_dientes.mp3\")\nsonido_lavar_manos = pygame.mixer.Sound(\"recursos/lavar_manos.mp3\")\nsonido_leer = pygame.mixer.Sound(\"recursos/leer.mp3\")\nsonido_pintar = pygame.mixer.Sound(\"recursos/pintar.mp3\")\nsonido_pipipopo = pygame.mixer.Sound(\"recursos/pipipopo.mp3\")\nsonido_ver_tv = pygame.mixer.Sound(\"recursos/ver_tv.mp3\")\nsonido_terminar = pygame.mixer.Sound(\"recursos/terminar.mp3\")",
      "metadata": {},
      "execution_count": null,
      "outputs": []
    },
    {
      "cell_type": "markdown",
      "source": "# Dimensionamiento de la pantalla a partir del tamaño de los dibujos",
      "metadata": {}
    },
    {
      "cell_type": "code",
      "source": "ancho_pantalla = len(acciones[0]) * medida_dibujo\nalto_pantalla = (len(acciones) * medida_dibujo) + alto_boton\nancho_boton = ancho_pantalla",
      "metadata": {},
      "execution_count": null,
      "outputs": []
    },
    {
      "cell_type": "markdown",
      "source": "# Definición de la fuente para el botón",
      "metadata": {}
    },
    {
      "cell_type": "code",
      "source": "tamanio_fuente = 20\nfuente = pygame.font.SysFont(\"Arial\", tamanio_fuente)\nxFuente = int((ancho_boton / 2) - (tamanio_fuente / 2))\nyFuente = int(alto_pantalla - alto_boton)",
      "metadata": {},
      "execution_count": null,
      "outputs": []
    },
    {
      "cell_type": "markdown",
      "source": "# Definición del botón rectangular inferior",
      "metadata": {}
    },
    {
      "cell_type": "code",
      "source": "boton = pygame.Rect(0, alto_pantalla - alto_boton, ancho_boton, alto_pantalla)",
      "metadata": {},
      "execution_count": null,
      "outputs": []
    },
    {
      "cell_type": "markdown",
      "source": "# Bandera para saber si reaccionar a los eventos del usuario",
      "metadata": {}
    },
    {
      "cell_type": "code",
      "source": "puede_iniciar = True",
      "metadata": {},
      "execution_count": null,
      "outputs": []
    },
    {
      "cell_type": "markdown",
      "source": "# Saber si la aplicación está iniciada",
      "metadata": {}
    },
    {
      "cell_type": "code",
      "source": "aplicacion_iniciada = False",
      "metadata": {},
      "execution_count": null,
      "outputs": []
    },
    {
      "cell_type": "markdown",
      "source": "# Definición de funciones empleadas",
      "metadata": {}
    },
    {
      "cell_type": "code",
      "source": "def reiniciar_acciones():\n    global aplicacion_iniciada\n    aplicacion_iniciada = False",
      "metadata": {},
      "execution_count": null,
      "outputs": []
    },
    {
      "cell_type": "code",
      "source": "def iniciar_acciones():\n    pygame.mixer.Sound.play(sonido_clic)\n    global aplicacion_iniciada\n    aplicacion_iniciada = True",
      "metadata": {},
      "execution_count": null,
      "outputs": []
    },
    {
      "cell_type": "markdown",
      "source": "# Definición de la pantalla con las medidas previamente calculadas y se coloca el título de la ventana",
      "metadata": {}
    },
    {
      "cell_type": "code",
      "source": "pantalla = pygame.display.set_mode((ancho_pantalla, alto_pantalla))\npygame.display.set_caption('Ayudame, quiero ...')",
      "metadata": {},
      "execution_count": null,
      "outputs": []
    },
    {
      "cell_type": "markdown",
      "source": "# Ciclo en el que se recibe la elección de la acción y se reproduce su audio ",
      "metadata": {}
    },
    {
      "cell_type": "code",
      "source": "while True:\n    # Escuchar eventos, pues estamos en un ciclo infinito que se repite varias veces por segundo\n    for event in pygame.event.get():\n        if event.type == pygame.QUIT:         # Si presiona Cerrar, salimos de la aplicacion\n            sys.exit()\n        elif event.type == pygame.MOUSEBUTTONDOWN and puede_iniciar: # Se hizo clic en una acción                  \n            xAbsoluto, yAbsoluto = event.pos  # Coordenadas en donde se hizo clic.\n            if boton.collidepoint(event.pos): # Si se hizo click en el botón y la aplicación no se ha iniciado, la iniciamos\n                if not aplicacion_iniciada:\n                    iniciar_acciones()\n            else:\n                if not aplicacion_iniciada:   # Si la aplicación no se ha iniciado, ignoramos el clic\n                    continue\n                \n                # Determinacion de X e Y, siendo estos los índices de la tabla\n                x = math.floor(xAbsoluto / medida_dibujo)\n                y = math.floor(yAbsoluto / medida_dibujo)\n                \n                # Ubica la acción en la tabla con las coordenadas Y y X \n                Tabla = acciones[y][x]\n\n                # Reproducción del audio correspondiente a partir de las coordenadas Y y X\n                if y == 0 and x == 0:\n                    pygame.mixer.Sound.play(sonido_baniar)\n                    pygame.display.set_caption('bañar')\n                elif y == 0 and x == 1:\n                    pygame.mixer.Sound.play(sonido_caer)\n                elif y == 0 and x == 2:\n                    pygame.mixer.Sound.play(sonido_caminar)\n                elif y == 0 and x == 3:\n                    pygame.mixer.Sound.play(sonido_cenar)\n                elif y == 0 and x == 4:\n                    pygame.mixer.Sound.play(sonido_comer)\n                elif y == 1 and x == 0:\n                    pygame.mixer.Sound.play(sonido_desayunar)\n                elif y == 1 and x == 1:\n                    pygame.mixer.Sound.play(sonido_dormir)\n                elif y == 1 and x == 2:\n                    pygame.mixer.Sound.play(sonido_ejercicio)\n                elif y == 1 and x == 3:\n                    pygame.mixer.Sound.play(sonido_frio)\n                elif y == 1 and x == 4:\n                    pygame.mixer.Sound.play(sonido_lavar_dientes)\n                elif y == 2 and x == 0:\n                    pygame.mixer.Sound.play(sonido_lavar_manos)\n                elif y == 2 and x == 1:\n                    pygame.mixer.Sound.play(sonido_leer)\n                elif y == 2 and x == 2:\n                    pygame.mixer.Sound.play(sonido_pintar)\n                elif y == 2 and x == 3:\n                    pygame.mixer.Sound.play(sonido_pipipopo)\n                elif y == 2 and x == 4:\n                    pygame.mixer.Sound.play(sonido_ver_tv)\n",
      "metadata": {},
      "execution_count": null,
      "outputs": []
    },
    {
      "cell_type": "markdown",
      "source": "# Rellenar el fondo de la pantalla en blanco",
      "metadata": {}
    },
    {
      "cell_type": "code",
      "source": "pantalla.fill(blanco)",
      "metadata": {},
      "execution_count": null,
      "outputs": []
    },
    {
      "cell_type": "markdown",
      "source": "# Banderas para saber en dónde dibujar las imágenes",
      "metadata": {}
    },
    {
      "cell_type": "code",
      "source": "x = 0\ny = 0",
      "metadata": {},
      "execution_count": null,
      "outputs": []
    },
    {
      "cell_type": "markdown",
      "source": "# Recorrer las acciones",
      "metadata": {}
    },
    {
      "cell_type": "code",
      "source": "for fila in acciones:\n        x = 0\n        for Tabla in fila:\n            # Dibuja la imagen            \n            pantalla.blit(Tabla.imagen_real, (x, y))\n            x += medida_dibujo\n        y += medida_dibujo",
      "metadata": {},
      "execution_count": null,
      "outputs": []
    },
    {
      "cell_type": "markdown",
      "source": "# Dibuja el botón para iniciar la aplicacion y ya dentro para seleccionar una acción",
      "metadata": {}
    },
    {
      "cell_type": "code",
      "source": "if aplicacion_iniciada: \n        pygame.draw.rect(pantalla, negro, boton)\n        pantalla.blit(fuente.render(\n            \"Selecciona una acción\", True, blanco), (xFuente, yFuente))\n    else:\n        pygame.draw.rect(pantalla, azul, boton)\n        pantalla.blit(fuente.render(\"Presiona aqui para iniciarla aplicación\", True, negro), (xFuente, yFuente))",
      "metadata": {},
      "execution_count": null,
      "outputs": []
    },
    {
      "cell_type": "markdown",
      "source": "# Actualizamos la pantalla",
      "metadata": {}
    },
    {
      "cell_type": "code",
      "source": "pygame.display.update()",
      "metadata": {},
      "execution_count": null,
      "outputs": []
    }
  ]
}